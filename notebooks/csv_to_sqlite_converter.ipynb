{
  "nbformat": 4,
  "nbformat_minor": 0,
  "metadata": {
    "colab": {
      "provenance": []
    },
    "kernelspec": {
      "name": "python3",
      "display_name": "Python 3"
    },
    "language_info": {
      "name": "python"
    }
  },
  "cells": [
    {
      "cell_type": "markdown",
      "source": [
        "# **Introduction**\n",
        "\n",
        "This is a simple csv to SQLite converter.<br>\n",
        "It was initially thought in the context of a boot camp at Masterschool, where students were eager to train their SQL skills.<br>\n",
        "We thus wanted to provide a hands-on solution for students to import a .csv of their liking to convert it in a SQLite database for data exploration.<br>\n",
        "<br>\n",
        "As such, this code allows one to upload a .csv; normalize the column's names; and output a .db file for use in an application of choice."
      ],
      "metadata": {
        "id": "bRHb6gHQZh8-"
      }
    },
    {
      "cell_type": "code",
      "source": [
        "import os\n",
        "import shutil\n",
        "import pandas as pd\n",
        "import sqlite3 as sql3\n",
        "import sqlalchemy as sa"
      ],
      "metadata": {
        "id": "c7sWjolD04od"
      },
      "execution_count": null,
      "outputs": []
    },
    {
      "cell_type": "code",
      "source": [
        "# Create database for SQLite\n",
        "\n",
        "# Replace name in 'database_name' variable for naming your db\n",
        "database_name = 'database_test'\n",
        "\n",
        "file_path = (f'{database_name}.db')\n",
        "if not os.path.exists(file_path):\n",
        "  open((file_path), 'w')\n",
        "else:\n",
        "  print('Database already exists.')"
      ],
      "metadata": {
        "id": "bwAy3EoYlAL5"
      },
      "execution_count": null,
      "outputs": []
    },
    {
      "cell_type": "code",
      "source": [
        "# Connexion to database\n",
        "\n",
        "connection = sql3.connect(file_path)\n",
        "cursor = connection.cursor()"
      ],
      "metadata": {
        "id": "pLnu67Iph0yM"
      },
      "execution_count": null,
      "outputs": []
    },
    {
      "cell_type": "code",
      "execution_count": null,
      "metadata": {
        "id": "Eh9BIQqUylkE"
      },
      "outputs": [],
      "source": [
        "# Scan for .csv in main folder\n",
        "# Isolate .csv file(s)\n",
        "\n",
        "csv_files = [f for f in os.listdir() if '.csv' in f]\n",
        "print(csv_files)"
      ]
    },
    {
      "cell_type": "code",
      "source": [
        "# Make a new directory\n",
        "# Name the directory:\n",
        "dataset_dir = 'dataset'\n",
        "\n",
        "# Bash command to create the directory:\n",
        "try:\n",
        "  os.mkdir(dataset_dir)\n",
        "except:\n",
        "  pass"
      ],
      "metadata": {
        "id": "bivt5bFq7KD6"
      },
      "execution_count": null,
      "outputs": []
    },
    {
      "cell_type": "code",
      "source": [
        "# Move the .csv file(s) in the new directory (dataset_dir var):\n",
        "\n",
        "for csv in csv_files:\n",
        "  shutil.move(csv, dataset_dir+'/'+csv)\n",
        "  print(f\"'{csv}' moved in '{dataset_dir}/{csv}'\")\n"
      ],
      "metadata": {
        "id": "Ii2Y3_dz877a"
      },
      "execution_count": null,
      "outputs": []
    },
    {
      "cell_type": "code",
      "source": [
        "# Create DataFrame out of .csv files:\n",
        "data_path = os.getcwd()+'/'+dataset_dir+'/'\n",
        "\n",
        "# df var is a dictionnary that uses the names of the .csv files as keys\n",
        "df = {}\n",
        "for file in csv_files:\n",
        "  try:\n",
        "    df[file] = pd.read_csv(data_path+file)\n",
        "  except UnicodeDecodeError:\n",
        "    df[file] = pd.read_csv(data_path+file, encoding = 'ISO-8859-1')\n",
        "  print(file)"
      ],
      "metadata": {
        "id": "lBW0SwUWB7Yb"
      },
      "execution_count": null,
      "outputs": []
    },
    {
      "cell_type": "code",
      "source": [
        "# Connexion to database\n",
        "connection = sql3.connect(file_path)\n",
        "cursor = connection.cursor()\n",
        "\n",
        "\n",
        "# Clean table and column names\n",
        "for k in csv_files:\n",
        "\n",
        "  dataframe = df[k]\n",
        "\n",
        "  # Clean table's names\n",
        "  clean_table_name = k.lower().replace(' ', '_').replace('?', '') \\\n",
        "                     .replace('-', '_').replace(r'/', '_').replace('\\\\', '_') \\\n",
        "                     .replace('%', '').replace(')', '').replace(r'(','') \\\n",
        "                     .replace('$', '').replace('.csv', '')\n",
        "  print(f\"Table's name: {clean_table_name}\")\n",
        "\n",
        "\n",
        "  # Since digit at the beginning of a column's name is a cause for error in SQLite,\n",
        "  # we start by removing and placing them at the end of the column's name:\n",
        "  col_names = []\n",
        "  for name in dataframe.columns:\n",
        "    digits = ''\n",
        "    new_col_name = ''\n",
        "    for x in name:\n",
        "      if x.isdigit():\n",
        "        digits += x\n",
        "      else:\n",
        "        new_col_name += x\n",
        "    col_names.append(new_col_name + '_' + digits)\n",
        "\n",
        "  col_names_corrected = []\n",
        "  for x in col_names:\n",
        "    if x.endswith('_'):\n",
        "      col_names_corrected.append(x[:-1])\n",
        "    elif x.startswith('_'):\n",
        "      col_names_corrected.append(x[1:])\n",
        "    elif x.startswith(' '):\n",
        "      col_names_corrected.append(x[1:])\n",
        "    else:\n",
        "      col_names_corrected.append(x)\n",
        "\n",
        "  dataframe.columns = col_names_corrected\n",
        "\n",
        "\n",
        "  # Clean column's names:\n",
        "  dataframe.columns =  [x.lower().replace(' ', '_').replace('?', '') \\\n",
        "                     .replace('-', '_').replace(r'/', '_').replace('\\\\', '_') \\\n",
        "                     .replace('%', '').replace(')', '').replace(r'(','') \\\n",
        "                    .replace('$', '') for x in dataframe.columns]\n",
        "  print(dataframe.columns)\n",
        "\n",
        "\n",
        "  # Converts Pandas dtype into SQL dtype\n",
        "  convert_type = {\n",
        "    'object' : 'varchar',\n",
        "    'float64' : 'float',\n",
        "    'int64' : 'int',\n",
        "    'datetime64' : 'timestamp',\n",
        "    'timedelta64[ns]' : 'varchar'\n",
        "    }\n",
        "\n",
        "\n",
        "  # Table schema\n",
        "  col_str = ', '.join((f'{n} {d}') for (n, d) in zip(dataframe.columns, dataframe.dtypes.replace(convert_type)))\n",
        "\n",
        "\n",
        "  # Drop table if already exists\n",
        "  cursor.execute(f\"DROP TABLE IF EXISTS {clean_table_name}\")\n",
        "\n",
        "  # Create table\n",
        "  cursor.execute(f\"CREATE TABLE {clean_table_name}({col_str})\")\n",
        "\n",
        "\n",
        "  # Insert data into table\n",
        "  # Export dataframe as csv\n",
        "  dataframe.to_csv(k, header = dataframe.columns, index=False, encoding='UTF-8')\n",
        "\n",
        "  # Open created csv file\n",
        "  my_file = open(k)\n",
        "  print(f\"'{k}' file opened in memory'\")\n",
        "\n",
        "  # Insert dataframe into table\n",
        "  dataframe.to_sql(clean_table_name, connection, if_exists='replace', index = False)\n",
        "\n",
        "  print(f'table {clean_table_name} successfully imported to database \\n')\n",
        "\n",
        "print('All table(s) have been successfully imported to database')"
      ],
      "metadata": {
        "id": "H5zGGNcZEOXN"
      },
      "execution_count": null,
      "outputs": []
    },
    {
      "cell_type": "code",
      "source": [
        "# Close connection\n",
        "cursor.close()"
      ],
      "metadata": {
        "id": "VLDHio5NSEdv"
      },
      "execution_count": null,
      "outputs": []
    },
    {
      "cell_type": "code",
      "source": [
        "# If you want to work on your database from colab, reconnect to the database first\n",
        "\n",
        "connection = sql3.connect(file_path)\n",
        "cursor = connection.cursor()"
      ],
      "metadata": {
        "id": "rVh8vBdvKCSJ"
      },
      "execution_count": null,
      "outputs": []
    },
    {
      "cell_type": "code",
      "source": [
        "# Type your SQL querry between the quotation marks\n",
        "\n",
        "query = '''\n",
        "\n",
        "\n",
        "'''\n",
        "\n",
        "pd.read_sql(query, connection)"
      ],
      "metadata": {
        "id": "LeymiaqsKn6u"
      },
      "execution_count": null,
      "outputs": []
    }
  ]
}